{
  "nbformat": 4,
  "nbformat_minor": 0,
  "metadata": {
    "colab": {
      "name": "Air BnB Exploratory Data Analysis.ipynb",
      "provenance": [],
      "collapsed_sections": [
        "m7m0N8bGg94F",
        "-x4yEfyD7MUz",
        "R0GyZaJ_7XI0",
        "hgpbeMu0EtO7"
      ],
      "authorship_tag": "ABX9TyOZTAw9l0qOZn2LsSRReUlR",
      "include_colab_link": true
    },
    "kernelspec": {
      "name": "python3",
      "display_name": "Python 3"
    }
  },
  "cells": [
    {
      "cell_type": "markdown",
      "metadata": {
        "id": "view-in-github",
        "colab_type": "text"
      },
      "source": [
        "<a href=\"https://colab.research.google.com/github/shayekh00/A-representation-of-NYC-Airbnb-Open-Data/blob/master/Air_BnB_Exploratory_Data_Analysis.ipynb\" target=\"_parent\"><img src=\"https://colab.research.google.com/assets/colab-badge.svg\" alt=\"Open In Colab\"/></a>"
      ]
    },
    {
      "cell_type": "code",
      "metadata": {
        "id": "NapOI1bijmKl",
        "colab_type": "code",
        "outputId": "d0530916-82f3-4371-fcaf-eedc3d8c699b",
        "colab": {
          "base_uri": "https://localhost:8080/",
          "height": 50
        }
      },
      "source": [
        "from google.colab import drive\n",
        "drive.mount(\"/content/drive\")\n",
        "%cd \"/content/drive/My Drive/Colab Notebooks/\""
      ],
      "execution_count": 86,
      "outputs": [
        {
          "output_type": "stream",
          "text": [
            "Drive already mounted at /content/drive; to attempt to forcibly remount, call drive.mount(\"/content/drive\", force_remount=True).\n",
            "/content/drive/My Drive/Colab Notebooks\n"
          ],
          "name": "stdout"
        }
      ]
    },
    {
      "cell_type": "code",
      "metadata": {
        "id": "NUzopPAJqhnU",
        "colab_type": "code",
        "colab": {}
      },
      "source": [
        "import matplotlib.pyplot as plt\n",
        "import pandas as pd\n",
        "import seaborn as sb\n",
        "import numpy as np"
      ],
      "execution_count": 0,
      "outputs": []
    },
    {
      "cell_type": "code",
      "metadata": {
        "id": "IZMYEz1rhWNj",
        "colab_type": "code",
        "colab": {}
      },
      "source": [
        "df = pd.read_csv('Datasets/AB_NYC_2019.csv')"
      ],
      "execution_count": 0,
      "outputs": []
    },
    {
      "cell_type": "markdown",
      "metadata": {
        "id": "m7m0N8bGg94F",
        "colab_type": "text"
      },
      "source": [
        "#**Data Exploration and Cleaning**"
      ]
    },
    {
      "cell_type": "code",
      "metadata": {
        "id": "gSTBwQeqlmuA",
        "colab_type": "code",
        "outputId": "5bcd7f77-a781-4d13-83ab-75dd61688417",
        "colab": {
          "base_uri": "https://localhost:8080/",
          "height": 390
        }
      },
      "source": [
        "df.head()"
      ],
      "execution_count": 4,
      "outputs": [
        {
          "output_type": "execute_result",
          "data": {
            "text/html": [
              "<div>\n",
              "<style scoped>\n",
              "    .dataframe tbody tr th:only-of-type {\n",
              "        vertical-align: middle;\n",
              "    }\n",
              "\n",
              "    .dataframe tbody tr th {\n",
              "        vertical-align: top;\n",
              "    }\n",
              "\n",
              "    .dataframe thead th {\n",
              "        text-align: right;\n",
              "    }\n",
              "</style>\n",
              "<table border=\"1\" class=\"dataframe\">\n",
              "  <thead>\n",
              "    <tr style=\"text-align: right;\">\n",
              "      <th></th>\n",
              "      <th>id</th>\n",
              "      <th>name</th>\n",
              "      <th>host_id</th>\n",
              "      <th>host_name</th>\n",
              "      <th>neighbourhood_group</th>\n",
              "      <th>neighbourhood</th>\n",
              "      <th>latitude</th>\n",
              "      <th>longitude</th>\n",
              "      <th>room_type</th>\n",
              "      <th>price</th>\n",
              "      <th>minimum_nights</th>\n",
              "      <th>number_of_reviews</th>\n",
              "      <th>last_review</th>\n",
              "      <th>reviews_per_month</th>\n",
              "      <th>calculated_host_listings_count</th>\n",
              "      <th>availability_365</th>\n",
              "    </tr>\n",
              "  </thead>\n",
              "  <tbody>\n",
              "    <tr>\n",
              "      <th>0</th>\n",
              "      <td>2539</td>\n",
              "      <td>Clean &amp; quiet apt home by the park</td>\n",
              "      <td>2787</td>\n",
              "      <td>John</td>\n",
              "      <td>Brooklyn</td>\n",
              "      <td>Kensington</td>\n",
              "      <td>40.64749</td>\n",
              "      <td>-73.97237</td>\n",
              "      <td>Private room</td>\n",
              "      <td>149</td>\n",
              "      <td>1</td>\n",
              "      <td>9</td>\n",
              "      <td>2018-10-19</td>\n",
              "      <td>0.21</td>\n",
              "      <td>6</td>\n",
              "      <td>365</td>\n",
              "    </tr>\n",
              "    <tr>\n",
              "      <th>1</th>\n",
              "      <td>2595</td>\n",
              "      <td>Skylit Midtown Castle</td>\n",
              "      <td>2845</td>\n",
              "      <td>Jennifer</td>\n",
              "      <td>Manhattan</td>\n",
              "      <td>Midtown</td>\n",
              "      <td>40.75362</td>\n",
              "      <td>-73.98377</td>\n",
              "      <td>Entire home/apt</td>\n",
              "      <td>225</td>\n",
              "      <td>1</td>\n",
              "      <td>45</td>\n",
              "      <td>2019-05-21</td>\n",
              "      <td>0.38</td>\n",
              "      <td>2</td>\n",
              "      <td>355</td>\n",
              "    </tr>\n",
              "    <tr>\n",
              "      <th>2</th>\n",
              "      <td>3647</td>\n",
              "      <td>THE VILLAGE OF HARLEM....NEW YORK !</td>\n",
              "      <td>4632</td>\n",
              "      <td>Elisabeth</td>\n",
              "      <td>Manhattan</td>\n",
              "      <td>Harlem</td>\n",
              "      <td>40.80902</td>\n",
              "      <td>-73.94190</td>\n",
              "      <td>Private room</td>\n",
              "      <td>150</td>\n",
              "      <td>3</td>\n",
              "      <td>0</td>\n",
              "      <td>NaN</td>\n",
              "      <td>NaN</td>\n",
              "      <td>1</td>\n",
              "      <td>365</td>\n",
              "    </tr>\n",
              "    <tr>\n",
              "      <th>3</th>\n",
              "      <td>3831</td>\n",
              "      <td>Cozy Entire Floor of Brownstone</td>\n",
              "      <td>4869</td>\n",
              "      <td>LisaRoxanne</td>\n",
              "      <td>Brooklyn</td>\n",
              "      <td>Clinton Hill</td>\n",
              "      <td>40.68514</td>\n",
              "      <td>-73.95976</td>\n",
              "      <td>Entire home/apt</td>\n",
              "      <td>89</td>\n",
              "      <td>1</td>\n",
              "      <td>270</td>\n",
              "      <td>2019-07-05</td>\n",
              "      <td>4.64</td>\n",
              "      <td>1</td>\n",
              "      <td>194</td>\n",
              "    </tr>\n",
              "    <tr>\n",
              "      <th>4</th>\n",
              "      <td>5022</td>\n",
              "      <td>Entire Apt: Spacious Studio/Loft by central park</td>\n",
              "      <td>7192</td>\n",
              "      <td>Laura</td>\n",
              "      <td>Manhattan</td>\n",
              "      <td>East Harlem</td>\n",
              "      <td>40.79851</td>\n",
              "      <td>-73.94399</td>\n",
              "      <td>Entire home/apt</td>\n",
              "      <td>80</td>\n",
              "      <td>10</td>\n",
              "      <td>9</td>\n",
              "      <td>2018-11-19</td>\n",
              "      <td>0.10</td>\n",
              "      <td>1</td>\n",
              "      <td>0</td>\n",
              "    </tr>\n",
              "  </tbody>\n",
              "</table>\n",
              "</div>"
            ],
            "text/plain": [
              "     id  ... availability_365\n",
              "0  2539  ...              365\n",
              "1  2595  ...              355\n",
              "2  3647  ...              365\n",
              "3  3831  ...              194\n",
              "4  5022  ...                0\n",
              "\n",
              "[5 rows x 16 columns]"
            ]
          },
          "metadata": {
            "tags": []
          },
          "execution_count": 4
        }
      ]
    },
    {
      "cell_type": "code",
      "metadata": {
        "id": "qbNtpUpvqfn2",
        "colab_type": "code",
        "outputId": "91c9581e-d007-4578-b9c1-fb9744b30de3",
        "colab": {
          "base_uri": "https://localhost:8080/",
          "height": 98
        }
      },
      "source": [
        "df.columns.values"
      ],
      "execution_count": 5,
      "outputs": [
        {
          "output_type": "execute_result",
          "data": {
            "text/plain": [
              "array(['id', 'name', 'host_id', 'host_name', 'neighbourhood_group',\n",
              "       'neighbourhood', 'latitude', 'longitude', 'room_type', 'price',\n",
              "       'minimum_nights', 'number_of_reviews', 'last_review',\n",
              "       'reviews_per_month', 'calculated_host_listings_count',\n",
              "       'availability_365'], dtype=object)"
            ]
          },
          "metadata": {
            "tags": []
          },
          "execution_count": 5
        }
      ]
    },
    {
      "cell_type": "code",
      "metadata": {
        "id": "mFEv6gB_M60z",
        "colab_type": "code",
        "outputId": "0e280a54-09be-42cc-dfc9-8fe9964c64b4",
        "colab": {
          "base_uri": "https://localhost:8080/",
          "height": 391
        }
      },
      "source": [
        "df.info()"
      ],
      "execution_count": 6,
      "outputs": [
        {
          "output_type": "stream",
          "text": [
            "<class 'pandas.core.frame.DataFrame'>\n",
            "RangeIndex: 48895 entries, 0 to 48894\n",
            "Data columns (total 16 columns):\n",
            " #   Column                          Non-Null Count  Dtype  \n",
            "---  ------                          --------------  -----  \n",
            " 0   id                              48895 non-null  int64  \n",
            " 1   name                            48879 non-null  object \n",
            " 2   host_id                         48895 non-null  int64  \n",
            " 3   host_name                       48874 non-null  object \n",
            " 4   neighbourhood_group             48895 non-null  object \n",
            " 5   neighbourhood                   48895 non-null  object \n",
            " 6   latitude                        48895 non-null  float64\n",
            " 7   longitude                       48895 non-null  float64\n",
            " 8   room_type                       48895 non-null  object \n",
            " 9   price                           48895 non-null  int64  \n",
            " 10  minimum_nights                  48895 non-null  int64  \n",
            " 11  number_of_reviews               48895 non-null  int64  \n",
            " 12  last_review                     38843 non-null  object \n",
            " 13  reviews_per_month               38843 non-null  float64\n",
            " 14  calculated_host_listings_count  48895 non-null  int64  \n",
            " 15  availability_365                48895 non-null  int64  \n",
            "dtypes: float64(3), int64(7), object(6)\n",
            "memory usage: 6.0+ MB\n"
          ],
          "name": "stdout"
        }
      ]
    },
    {
      "cell_type": "code",
      "metadata": {
        "id": "eOXYOyrChDAu",
        "colab_type": "code",
        "outputId": "908d871d-a57e-4b83-df02-c8976361da32",
        "colab": {
          "base_uri": "https://localhost:8080/",
          "height": 293
        }
      },
      "source": [
        "df.isnull().sum()"
      ],
      "execution_count": 7,
      "outputs": [
        {
          "output_type": "execute_result",
          "data": {
            "text/plain": [
              "id                                    0\n",
              "name                                 16\n",
              "host_id                               0\n",
              "host_name                            21\n",
              "neighbourhood_group                   0\n",
              "neighbourhood                         0\n",
              "latitude                              0\n",
              "longitude                             0\n",
              "room_type                             0\n",
              "price                                 0\n",
              "minimum_nights                        0\n",
              "number_of_reviews                     0\n",
              "last_review                       10052\n",
              "reviews_per_month                 10052\n",
              "calculated_host_listings_count        0\n",
              "availability_365                      0\n",
              "dtype: int64"
            ]
          },
          "metadata": {
            "tags": []
          },
          "execution_count": 7
        }
      ]
    },
    {
      "cell_type": "code",
      "metadata": {
        "id": "JXBLbsqYhtBj",
        "colab_type": "code",
        "outputId": "cd23b24b-350f-4e85-c16c-89ae3ae2d96b",
        "colab": {
          "base_uri": "https://localhost:8080/",
          "height": 212
        }
      },
      "source": [
        "(df['last_review'].isnull() == df['reviews_per_month'].isnull() ).all"
      ],
      "execution_count": 8,
      "outputs": [
        {
          "output_type": "execute_result",
          "data": {
            "text/plain": [
              "<bound method Series.all of 0        True\n",
              "1        True\n",
              "2        True\n",
              "3        True\n",
              "4        True\n",
              "         ... \n",
              "48890    True\n",
              "48891    True\n",
              "48892    True\n",
              "48893    True\n",
              "48894    True\n",
              "Length: 48895, dtype: bool>"
            ]
          },
          "metadata": {
            "tags": []
          },
          "execution_count": 8
        }
      ]
    },
    {
      "cell_type": "code",
      "metadata": {
        "id": "YBBP8fqah79p",
        "colab_type": "code",
        "colab": {}
      },
      "source": [
        "df.loc[df['reviews_per_month'].isnull(),'reviews_per_month' ]= 0"
      ],
      "execution_count": 0,
      "outputs": []
    },
    {
      "cell_type": "code",
      "metadata": {
        "id": "cr2zBolG8wDK",
        "colab_type": "code",
        "colab": {}
      },
      "source": [
        "df.drop(['id','name','host_name','last_review'], axis=1, inplace=True)"
      ],
      "execution_count": 0,
      "outputs": []
    },
    {
      "cell_type": "code",
      "metadata": {
        "id": "EiVr0C628zwC",
        "colab_type": "code",
        "outputId": "399c9756-eaf6-4cb9-bcb4-96feefa93b75",
        "colab": {
          "base_uri": "https://localhost:8080/",
          "height": 228
        }
      },
      "source": [
        "df.isnull().sum()"
      ],
      "execution_count": 11,
      "outputs": [
        {
          "output_type": "execute_result",
          "data": {
            "text/plain": [
              "host_id                           0\n",
              "neighbourhood_group               0\n",
              "neighbourhood                     0\n",
              "latitude                          0\n",
              "longitude                         0\n",
              "room_type                         0\n",
              "price                             0\n",
              "minimum_nights                    0\n",
              "number_of_reviews                 0\n",
              "reviews_per_month                 0\n",
              "calculated_host_listings_count    0\n",
              "availability_365                  0\n",
              "dtype: int64"
            ]
          },
          "metadata": {
            "tags": []
          },
          "execution_count": 11
        }
      ]
    },
    {
      "cell_type": "code",
      "metadata": {
        "id": "eW7fT_vaAbXv",
        "colab_type": "code",
        "outputId": "75db585a-5f3c-49cb-b424-4c8b0bd9a602",
        "colab": {
          "base_uri": "https://localhost:8080/",
          "height": 277
        }
      },
      "source": [
        "df.describe()"
      ],
      "execution_count": 12,
      "outputs": [
        {
          "output_type": "execute_result",
          "data": {
            "text/html": [
              "<div>\n",
              "<style scoped>\n",
              "    .dataframe tbody tr th:only-of-type {\n",
              "        vertical-align: middle;\n",
              "    }\n",
              "\n",
              "    .dataframe tbody tr th {\n",
              "        vertical-align: top;\n",
              "    }\n",
              "\n",
              "    .dataframe thead th {\n",
              "        text-align: right;\n",
              "    }\n",
              "</style>\n",
              "<table border=\"1\" class=\"dataframe\">\n",
              "  <thead>\n",
              "    <tr style=\"text-align: right;\">\n",
              "      <th></th>\n",
              "      <th>host_id</th>\n",
              "      <th>latitude</th>\n",
              "      <th>longitude</th>\n",
              "      <th>price</th>\n",
              "      <th>minimum_nights</th>\n",
              "      <th>number_of_reviews</th>\n",
              "      <th>reviews_per_month</th>\n",
              "      <th>calculated_host_listings_count</th>\n",
              "      <th>availability_365</th>\n",
              "    </tr>\n",
              "  </thead>\n",
              "  <tbody>\n",
              "    <tr>\n",
              "      <th>count</th>\n",
              "      <td>4.889500e+04</td>\n",
              "      <td>48895.000000</td>\n",
              "      <td>48895.000000</td>\n",
              "      <td>48895.000000</td>\n",
              "      <td>48895.000000</td>\n",
              "      <td>48895.000000</td>\n",
              "      <td>48895.000000</td>\n",
              "      <td>48895.000000</td>\n",
              "      <td>48895.000000</td>\n",
              "    </tr>\n",
              "    <tr>\n",
              "      <th>mean</th>\n",
              "      <td>6.762001e+07</td>\n",
              "      <td>40.728949</td>\n",
              "      <td>-73.952170</td>\n",
              "      <td>152.720687</td>\n",
              "      <td>7.029962</td>\n",
              "      <td>23.274466</td>\n",
              "      <td>1.090910</td>\n",
              "      <td>7.143982</td>\n",
              "      <td>112.781327</td>\n",
              "    </tr>\n",
              "    <tr>\n",
              "      <th>std</th>\n",
              "      <td>7.861097e+07</td>\n",
              "      <td>0.054530</td>\n",
              "      <td>0.046157</td>\n",
              "      <td>240.154170</td>\n",
              "      <td>20.510550</td>\n",
              "      <td>44.550582</td>\n",
              "      <td>1.597283</td>\n",
              "      <td>32.952519</td>\n",
              "      <td>131.622289</td>\n",
              "    </tr>\n",
              "    <tr>\n",
              "      <th>min</th>\n",
              "      <td>2.438000e+03</td>\n",
              "      <td>40.499790</td>\n",
              "      <td>-74.244420</td>\n",
              "      <td>0.000000</td>\n",
              "      <td>1.000000</td>\n",
              "      <td>0.000000</td>\n",
              "      <td>0.000000</td>\n",
              "      <td>1.000000</td>\n",
              "      <td>0.000000</td>\n",
              "    </tr>\n",
              "    <tr>\n",
              "      <th>25%</th>\n",
              "      <td>7.822033e+06</td>\n",
              "      <td>40.690100</td>\n",
              "      <td>-73.983070</td>\n",
              "      <td>69.000000</td>\n",
              "      <td>1.000000</td>\n",
              "      <td>1.000000</td>\n",
              "      <td>0.040000</td>\n",
              "      <td>1.000000</td>\n",
              "      <td>0.000000</td>\n",
              "    </tr>\n",
              "    <tr>\n",
              "      <th>50%</th>\n",
              "      <td>3.079382e+07</td>\n",
              "      <td>40.723070</td>\n",
              "      <td>-73.955680</td>\n",
              "      <td>106.000000</td>\n",
              "      <td>3.000000</td>\n",
              "      <td>5.000000</td>\n",
              "      <td>0.370000</td>\n",
              "      <td>1.000000</td>\n",
              "      <td>45.000000</td>\n",
              "    </tr>\n",
              "    <tr>\n",
              "      <th>75%</th>\n",
              "      <td>1.074344e+08</td>\n",
              "      <td>40.763115</td>\n",
              "      <td>-73.936275</td>\n",
              "      <td>175.000000</td>\n",
              "      <td>5.000000</td>\n",
              "      <td>24.000000</td>\n",
              "      <td>1.580000</td>\n",
              "      <td>2.000000</td>\n",
              "      <td>227.000000</td>\n",
              "    </tr>\n",
              "    <tr>\n",
              "      <th>max</th>\n",
              "      <td>2.743213e+08</td>\n",
              "      <td>40.913060</td>\n",
              "      <td>-73.712990</td>\n",
              "      <td>10000.000000</td>\n",
              "      <td>1250.000000</td>\n",
              "      <td>629.000000</td>\n",
              "      <td>58.500000</td>\n",
              "      <td>327.000000</td>\n",
              "      <td>365.000000</td>\n",
              "    </tr>\n",
              "  </tbody>\n",
              "</table>\n",
              "</div>"
            ],
            "text/plain": [
              "            host_id  ...  availability_365\n",
              "count  4.889500e+04  ...      48895.000000\n",
              "mean   6.762001e+07  ...        112.781327\n",
              "std    7.861097e+07  ...        131.622289\n",
              "min    2.438000e+03  ...          0.000000\n",
              "25%    7.822033e+06  ...          0.000000\n",
              "50%    3.079382e+07  ...         45.000000\n",
              "75%    1.074344e+08  ...        227.000000\n",
              "max    2.743213e+08  ...        365.000000\n",
              "\n",
              "[8 rows x 9 columns]"
            ]
          },
          "metadata": {
            "tags": []
          },
          "execution_count": 12
        }
      ]
    },
    {
      "cell_type": "markdown",
      "metadata": {
        "id": "-x4yEfyD7MUz",
        "colab_type": "text"
      },
      "source": [
        "# **Which hosts are the busiest and why**"
      ]
    },
    {
      "cell_type": "markdown",
      "metadata": {
        "id": "sLvDEVIyFeRM",
        "colab_type": "text"
      },
      "source": [
        "Brooklyn and Manhattan are the busiest because they have the highest demands which corrosponds to more people"
      ]
    },
    {
      "cell_type": "code",
      "metadata": {
        "id": "JxVxN7QFVbOM",
        "colab_type": "code",
        "outputId": "add6667d-649e-45b3-e473-dcf3a4f35529",
        "colab": {
          "base_uri": "https://localhost:8080/",
          "height": 50
        }
      },
      "source": [
        "df['neighbourhood_group'].unique()"
      ],
      "execution_count": 13,
      "outputs": [
        {
          "output_type": "execute_result",
          "data": {
            "text/plain": [
              "array(['Brooklyn', 'Manhattan', 'Queens', 'Staten Island', 'Bronx'],\n",
              "      dtype=object)"
            ]
          },
          "metadata": {
            "tags": []
          },
          "execution_count": 13
        }
      ]
    },
    {
      "cell_type": "code",
      "metadata": {
        "id": "R_Cxamf0JUJz",
        "colab_type": "code",
        "outputId": "396e50be-7c9d-4782-a89e-d592a5d1f4ee",
        "colab": {
          "base_uri": "https://localhost:8080/",
          "height": 33
        }
      },
      "source": [
        "data=df.copy()\n",
        "data= (data.groupby(['neighbourhood_group'] )['host_id'])\n",
        "#data= data.get_group('Brooklyn')\n",
        "data= data.get_group('Manhattan')\n",
        "data=data.to_list()\n",
        "print(data[1])\n"
      ],
      "execution_count": 14,
      "outputs": [
        {
          "output_type": "stream",
          "text": [
            "4632\n"
          ],
          "name": "stdout"
        }
      ]
    },
    {
      "cell_type": "code",
      "metadata": {
        "id": "ILRJ6ZDvcFqM",
        "colab_type": "code",
        "colab": {}
      },
      "source": [
        "import folium  \n",
        "from folium import plugins\n",
        "\n",
        "ny_map = folium.Map(location=[40.7, -74],zoom_start =10)\n",
        "data_loc= df[['latitude','longitude']].values\n",
        "data_loc =data_loc.tolist()\n",
        "hm = plugins.HeatMap(data_loc)\n",
        "hm.add_to(ny_map)\n",
        "ny_map"
      ],
      "execution_count": 0,
      "outputs": []
    },
    {
      "cell_type": "code",
      "metadata": {
        "id": "Cx7nBDLndNAj",
        "colab_type": "code",
        "colab": {
          "base_uri": "https://localhost:8080/",
          "height": 748
        },
        "outputId": "66cdea8c-bf0a-421f-cc0e-1cc83ae388bd"
      },
      "source": [
        "for gp in set(df['neighbourhood_group']):  \n",
        "  print(df.loc[df['neighbourhood_group']==gp].groupby(['neighbourhood_group','neighbourhood']).agg({'price':['count','mean']}).sort_values(by=('price', 'mean'),ascending=False).head()  )\n",
        "  print()"
      ],
      "execution_count": 36,
      "outputs": [
        {
          "output_type": "stream",
          "text": [
            "                                    price            \n",
            "                                    count        mean\n",
            "neighbourhood_group neighbourhood                    \n",
            "Queens              Neponsit            3  274.666667\n",
            "                    Breezy Point        3  213.333333\n",
            "                    Jamaica Estates    19  182.947368\n",
            "                    Arverne            77  171.779221\n",
            "                    Belle Harbor        8  171.500000\n",
            "\n",
            "                                     price            \n",
            "                                     count        mean\n",
            "neighbourhood_group neighbourhood                     \n",
            "Brooklyn            Sea Gate             7  487.857143\n",
            "                    Cobble Hill         99  211.929293\n",
            "                    Brooklyn Heights   154  209.064935\n",
            "                    DUMBO               36  196.305556\n",
            "                    Vinegar Hill        34  187.176471\n",
            "\n",
            "                                   price            \n",
            "                                   count        mean\n",
            "neighbourhood_group neighbourhood                   \n",
            "Bronx               Riverdale         11  442.090909\n",
            "                    City Island       18  173.000000\n",
            "                    Spuyten Duyvil     4  154.750000\n",
            "                    Eastchester       13  141.692308\n",
            "                    Unionport          7  137.142857\n",
            "\n",
            "                                      price            \n",
            "                                      count        mean\n",
            "neighbourhood_group neighbourhood                      \n",
            "Manhattan           Tribeca             177  490.638418\n",
            "                    Battery Park City    70  367.557143\n",
            "                    Flatiron District    80  341.925000\n",
            "                    NoHo                 78  295.717949\n",
            "                    SoHo                358  287.103352\n",
            "\n",
            "                                   price       \n",
            "                                   count   mean\n",
            "neighbourhood_group neighbourhood              \n",
            "Staten Island       Fort Wadsworth     1  800.0\n",
            "                    Woodrow            1  700.0\n",
            "                    Prince's Bay       4  409.5\n",
            "                    Randall Manor     19  336.0\n",
            "                    Willowbrook        1  249.0\n",
            "\n"
          ],
          "name": "stdout"
        }
      ]
    },
    {
      "cell_type": "code",
      "metadata": {
        "id": "nEhsiVIKiTM-",
        "colab_type": "code",
        "colab": {}
      },
      "source": [
        "top_hosts=df['host_id'].value_counts().head(10)\n",
        "#top_hosts"
      ],
      "execution_count": 0,
      "outputs": []
    },
    {
      "cell_type": "code",
      "metadata": {
        "id": "4QJ10sNNiwCl",
        "colab_type": "code",
        "colab": {}
      },
      "source": [
        "for index, value in top_hosts.items():\n",
        "  #print(index)\n",
        "  hosted_by_id = df[df['host_id']== index]\n",
        "  print(hosted_by_id['neighbourhood_group'].item)\n",
        "  \n",
        "#hosted_by_id = df[df['host_id']== 219517861]\n",
        "#print(hosted_by_id['neighbourhood_group'].head(1)  )"
      ],
      "execution_count": 0,
      "outputs": []
    },
    {
      "cell_type": "code",
      "metadata": {
        "id": "0llbX9BRqyc-",
        "colab_type": "code",
        "colab": {
          "base_uri": "https://localhost:8080/",
          "height": 495
        },
        "outputId": "7d7e8f0d-a31c-40f2-f152-f545a7985e30"
      },
      "source": [
        "viz_1=top_hosts.plot(kind='bar')\n",
        "viz_1.set_title('Hosts with the most listings in NYC')\n",
        "viz_1.set_ylabel('Count of listings')\n",
        "viz_1.set_xlabel('Host IDs')\n",
        "viz_1.set_xticklabels(viz_1.get_xticklabels(), rotation=45)"
      ],
      "execution_count": 81,
      "outputs": [
        {
          "output_type": "execute_result",
          "data": {
            "text/plain": [
              "[Text(0, 0, '219517861'),\n",
              " Text(0, 0, '107434423'),\n",
              " Text(0, 0, '30283594'),\n",
              " Text(0, 0, '137358866'),\n",
              " Text(0, 0, '12243051'),\n",
              " Text(0, 0, '16098958'),\n",
              " Text(0, 0, '61391963'),\n",
              " Text(0, 0, '22541573'),\n",
              " Text(0, 0, '200380610'),\n",
              " Text(0, 0, '7503643')]"
            ]
          },
          "metadata": {
            "tags": []
          },
          "execution_count": 81
        },
        {
          "output_type": "display_data",
          "data": {
            "image/png": "[encoded data removed]",
            "text/plain": [
              "<Figure size 432x288 with 1 Axes>"
            ]
          },
          "metadata": {
            "tags": []
          }
        }
      ]
    },
    {
      "cell_type": "markdown",
      "metadata": {
        "id": "R0GyZaJ_7XI0",
        "colab_type": "text"
      },
      "source": [
        "# **What areas have more traffic than others and why is that the case?**"
      ]
    },
    {
      "cell_type": "markdown",
      "metadata": {
        "id": "dYH5NY4PCn9L",
        "colab_type": "text"
      },
      "source": [
        "The same reason as above.\n",
        "The more the price,more the demand,more the peoople this higher traffic.\n",
        "\n"
      ]
    },
    {
      "cell_type": "code",
      "metadata": {
        "id": "dFOLZ3A5JKmP",
        "colab_type": "code",
        "outputId": "41076ac0-f020-443b-9c37-ac07a3a45430",
        "colab": {
          "base_uri": "https://localhost:8080/",
          "height": 163
        }
      },
      "source": [
        "df['price'].describe()"
      ],
      "execution_count": 15,
      "outputs": [
        {
          "output_type": "execute_result",
          "data": {
            "text/plain": [
              "count    48895.000000\n",
              "mean       152.720687\n",
              "std        240.154170\n",
              "min          0.000000\n",
              "25%         69.000000\n",
              "50%        106.000000\n",
              "75%        175.000000\n",
              "max      10000.000000\n",
              "Name: price, dtype: float64"
            ]
          },
          "metadata": {
            "tags": []
          },
          "execution_count": 15
        }
      ]
    },
    {
      "cell_type": "code",
      "metadata": {
        "id": "TN39pOhh8-F9",
        "colab_type": "code",
        "outputId": "4d77ca45-83c6-41a0-c802-cc60cead66d9",
        "colab": {
          "base_uri": "https://localhost:8080/",
          "height": 33
        }
      },
      "source": [
        "data=df.copy()\n",
        "data= (data.groupby(['neighbourhood_group'] )['host_id'])\n",
        "#data= data.get_group('Brooklyn')\n",
        "data= data.get_group('Manhattan')\n",
        "data=data.to_list()\n",
        "print(data[1])\n"
      ],
      "execution_count": 16,
      "outputs": [
        {
          "output_type": "stream",
          "text": [
            "4632\n"
          ],
          "name": "stdout"
        }
      ]
    },
    {
      "cell_type": "markdown",
      "metadata": {
        "id": "hgpbeMu0EtO7",
        "colab_type": "text"
      },
      "source": [
        "# **Are there any relationships between prices, number of reviews, and the number of days that a given listing is booked?**"
      ]
    },
    {
      "cell_type": "markdown",
      "metadata": {
        "id": "2zUMc74CZsCg",
        "colab_type": "text"
      },
      "source": [
        "Correlation between Price & No of Reviews"
      ]
    },
    {
      "cell_type": "code",
      "metadata": {
        "id": "a6FYEVa9EycO",
        "colab_type": "code",
        "colab": {}
      },
      "source": [
        "corr= df.corr(method ='pearson') "
      ],
      "execution_count": 0,
      "outputs": []
    },
    {
      "cell_type": "code",
      "metadata": {
        "id": "8TMAszK9aD5f",
        "colab_type": "code",
        "colab": {
          "base_uri": "https://localhost:8080/",
          "height": 427
        },
        "outputId": "db653d05-d4de-4dee-8bb1-3ce00045857b"
      },
      "source": [
        "sb.heatmap(corr, \n",
        "            xticklabels=corr.columns,\n",
        "            yticklabels=corr.columns,\n",
        "            cmap='RdBu_r',\n",
        "            annot=True,\n",
        "            linewidth=0.5)"
      ],
      "execution_count": 24,
      "outputs": [
        {
          "output_type": "execute_result",
          "data": {
            "text/plain": [
              "<matplotlib.axes._subplots.AxesSubplot at 0x7f14ec6d8e10>"
            ]
          },
          "metadata": {
            "tags": []
          },
          "execution_count": 24
        },
        {
          "output_type": "display_data",
          "data": {
            "image/png": "[encoded data removed]",
            "text/plain": [
              "<Figure size 432x288 with 2 Axes>"
            ]
          },
          "metadata": {
            "tags": []
          }
        }
      ]
    },
    {
      "cell_type": "code",
      "metadata": {
        "id": "_QPxjbZiabkQ",
        "colab_type": "code",
        "colab": {
          "base_uri": "https://localhost:8080/",
          "height": 66
        },
        "outputId": "67131fa9-4823-4250-d9b3-79fe7f4bb860"
      },
      "source": [
        "print('Correlation between price and Number of Reviews:  ', corr['price']['number_of_reviews'] )\n",
        "print('Correlation between price and Number of Nights:  ', corr['price']['minimum_nights'] )\n",
        "print('Correlation between Number of Nights and Number of Reviews:  ', corr['minimum_nights']['number_of_reviews'] )"
      ],
      "execution_count": 42,
      "outputs": [
        {
          "output_type": "stream",
          "text": [
            "Correlation between price and Number of Reviews:   -0.047954226582658625\n",
            "Correlation between price and Number of Nights:   0.042799334143302656\n",
            "Correlation between Number of Nights and Number of Reviews:   -0.08011606824162393\n"
          ],
          "name": "stdout"
        }
      ]
    },
    {
      "cell_type": "markdown",
      "metadata": {
        "id": "X4B2DQP_qJVt",
        "colab_type": "text"
      },
      "source": [
        "# **More Exploration**"
      ]
    },
    {
      "cell_type": "code",
      "metadata": {
        "id": "O5NRodYqvvyo",
        "colab_type": "code",
        "colab": {
          "base_uri": "https://localhost:8080/",
          "height": 1000
        },
        "outputId": "93d7e4c5-63dc-4eb0-8288-860b03813e6f"
      },
      "source": [
        "#Brooklyn\n",
        "sub_1=df.loc[df['neighbourhood_group'] == 'Brooklyn']\n",
        "price_sub1=sub_1[['price']]\n",
        "#Manhattan\n",
        "sub_2=df.loc[df['neighbourhood_group'] == 'Manhattan']\n",
        "price_sub2=sub_2[['price']]\n",
        "#Queens\n",
        "sub_3=df.loc[df['neighbourhood_group'] == 'Queens']\n",
        "price_sub3=sub_3[['price']]\n",
        "#Staten Island\n",
        "sub_4=df.loc[df['neighbourhood_group'] == 'Staten Island']\n",
        "price_sub4=sub_4[['price']]\n",
        "#Bronx\n",
        "sub_5=df.loc[df['neighbourhood_group'] == 'Bronx']\n",
        "price_sub5=sub_5[['price']]\n",
        "#putting all the prices' dfs in the list\n",
        "price_list_by_n=[price_sub1, price_sub2, price_sub3, price_sub4, price_sub5]\n",
        "\n",
        "price_list_by_n"
      ],
      "execution_count": 83,
      "outputs": [
        {
          "output_type": "execute_result",
          "data": {
            "text/plain": [
              "[       price\n",
              " 0        149\n",
              " 3         89\n",
              " 6         60\n",
              " 12        89\n",
              " 15       140\n",
              " ...      ...\n",
              " 48882     40\n",
              " 48884    190\n",
              " 48887    170\n",
              " 48890     70\n",
              " 48891     40\n",
              " \n",
              " [20104 rows x 1 columns],        price\n",
              " 1        225\n",
              " 2        150\n",
              " 4         80\n",
              " 5        200\n",
              " 7         79\n",
              " ...      ...\n",
              " 48886    200\n",
              " 48888    125\n",
              " 48892    115\n",
              " 48893     55\n",
              " 48894     90\n",
              " \n",
              " [21661 rows x 1 columns],        price\n",
              " 46       130\n",
              " 77        70\n",
              " 143      140\n",
              " 161       79\n",
              " 181      350\n",
              " ...      ...\n",
              " 48858     68\n",
              " 48863     93\n",
              " 48866     58\n",
              " 48878     45\n",
              " 48889     65\n",
              " \n",
              " [5666 rows x 1 columns],        price\n",
              " 169       70\n",
              " 249       36\n",
              " 250       37\n",
              " 251       37\n",
              " 256       36\n",
              " ...      ...\n",
              " 48441     40\n",
              " 48446    100\n",
              " 48533    450\n",
              " 48649     54\n",
              " 48799    235\n",
              " \n",
              " [373 rows x 1 columns],        price\n",
              " 171       40\n",
              " 207       45\n",
              " 260       90\n",
              " 261      105\n",
              " 309       90\n",
              " ...      ...\n",
              " 48783    140\n",
              " 48792     80\n",
              " 48795    125\n",
              " 48796     70\n",
              " 48805    100\n",
              " \n",
              " [1091 rows x 1 columns]]"
            ]
          },
          "metadata": {
            "tags": []
          },
          "execution_count": 83
        }
      ]
    },
    {
      "cell_type": "code",
      "metadata": {
        "id": "lKjuXPc0v8zc",
        "colab_type": "code",
        "colab": {
          "base_uri": "https://localhost:8080/",
          "height": 312
        },
        "outputId": "58fd92e4-f1be-4ca1-d6f3-f06f2d0ec402"
      },
      "source": [
        "#using violinplot to showcase density and distribtuion of prices \n",
        "\n",
        "sub_6=df[df.price < 500]\n",
        "viz_2=sns.violinplot(data=sub_6, x='neighbourhood_group', y='price')\n",
        "viz_2.set_title('Density and distribution of prices for each neighberhood_group')"
      ],
      "execution_count": 85,
      "outputs": [
        {
          "output_type": "execute_result",
          "data": {
            "text/plain": [
              "Text(0.5, 1.0, 'Density and distribution of prices for each neighberhood_group')"
            ]
          },
          "metadata": {
            "tags": []
          },
          "execution_count": 85
        },
        {
          "output_type": "display_data",
          "data": {
            "image/png": "[encoded data removed]",
            "text/plain": [
              "<Figure size 432x288 with 1 Axes>"
            ]
          },
          "metadata": {
            "tags": []
          }
        }
      ]
    },
    {
      "cell_type": "code",
      "metadata": {
        "id": "Mvta0ZjgwYRp",
        "colab_type": "code",
        "colab": {
          "base_uri": "https://localhost:8080/",
          "height": 391
        },
        "outputId": "d60876da-29ad-4782-d380-11484e72d4b3"
      },
      "source": [
        ""
      ],
      "execution_count": 91,
      "outputs": [
        {
          "output_type": "execute_result",
          "data": {
            "text/html": [
              "<div>\n",
              "<style scoped>\n",
              "    .dataframe tbody tr th:only-of-type {\n",
              "        vertical-align: middle;\n",
              "    }\n",
              "\n",
              "    .dataframe tbody tr th {\n",
              "        vertical-align: top;\n",
              "    }\n",
              "\n",
              "    .dataframe thead th {\n",
              "        text-align: right;\n",
              "    }\n",
              "</style>\n",
              "<table border=\"1\" class=\"dataframe\">\n",
              "  <thead>\n",
              "    <tr style=\"text-align: right;\">\n",
              "      <th></th>\n",
              "      <th>host_id</th>\n",
              "      <th>neighbourhood_group</th>\n",
              "      <th>neighbourhood</th>\n",
              "      <th>latitude</th>\n",
              "      <th>longitude</th>\n",
              "      <th>room_type</th>\n",
              "      <th>price</th>\n",
              "      <th>minimum_nights</th>\n",
              "      <th>number_of_reviews</th>\n",
              "      <th>reviews_per_month</th>\n",
              "      <th>calculated_host_listings_count</th>\n",
              "      <th>availability_365</th>\n",
              "    </tr>\n",
              "  </thead>\n",
              "  <tbody>\n",
              "    <tr>\n",
              "      <th>1</th>\n",
              "      <td>2845</td>\n",
              "      <td>Manhattan</td>\n",
              "      <td>Midtown</td>\n",
              "      <td>40.75362</td>\n",
              "      <td>-73.98377</td>\n",
              "      <td>Entire home/apt</td>\n",
              "      <td>225</td>\n",
              "      <td>1</td>\n",
              "      <td>45</td>\n",
              "      <td>0.38</td>\n",
              "      <td>2</td>\n",
              "      <td>355</td>\n",
              "    </tr>\n",
              "    <tr>\n",
              "      <th>2</th>\n",
              "      <td>4632</td>\n",
              "      <td>Manhattan</td>\n",
              "      <td>Harlem</td>\n",
              "      <td>40.80902</td>\n",
              "      <td>-73.94190</td>\n",
              "      <td>Private room</td>\n",
              "      <td>150</td>\n",
              "      <td>3</td>\n",
              "      <td>0</td>\n",
              "      <td>0.00</td>\n",
              "      <td>1</td>\n",
              "      <td>365</td>\n",
              "    </tr>\n",
              "    <tr>\n",
              "      <th>6</th>\n",
              "      <td>7356</td>\n",
              "      <td>Brooklyn</td>\n",
              "      <td>Bedford-Stuyvesant</td>\n",
              "      <td>40.68688</td>\n",
              "      <td>-73.95596</td>\n",
              "      <td>Private room</td>\n",
              "      <td>60</td>\n",
              "      <td>45</td>\n",
              "      <td>49</td>\n",
              "      <td>0.40</td>\n",
              "      <td>1</td>\n",
              "      <td>0</td>\n",
              "    </tr>\n",
              "    <tr>\n",
              "      <th>7</th>\n",
              "      <td>8967</td>\n",
              "      <td>Manhattan</td>\n",
              "      <td>Hell's Kitchen</td>\n",
              "      <td>40.76489</td>\n",
              "      <td>-73.98493</td>\n",
              "      <td>Private room</td>\n",
              "      <td>79</td>\n",
              "      <td>2</td>\n",
              "      <td>430</td>\n",
              "      <td>3.47</td>\n",
              "      <td>1</td>\n",
              "      <td>220</td>\n",
              "    </tr>\n",
              "    <tr>\n",
              "      <th>8</th>\n",
              "      <td>7490</td>\n",
              "      <td>Manhattan</td>\n",
              "      <td>Upper West Side</td>\n",
              "      <td>40.80178</td>\n",
              "      <td>-73.96723</td>\n",
              "      <td>Private room</td>\n",
              "      <td>79</td>\n",
              "      <td>2</td>\n",
              "      <td>118</td>\n",
              "      <td>0.99</td>\n",
              "      <td>1</td>\n",
              "      <td>0</td>\n",
              "    </tr>\n",
              "    <tr>\n",
              "      <th>...</th>\n",
              "      <td>...</td>\n",
              "      <td>...</td>\n",
              "      <td>...</td>\n",
              "      <td>...</td>\n",
              "      <td>...</td>\n",
              "      <td>...</td>\n",
              "      <td>...</td>\n",
              "      <td>...</td>\n",
              "      <td>...</td>\n",
              "      <td>...</td>\n",
              "      <td>...</td>\n",
              "      <td>...</td>\n",
              "    </tr>\n",
              "    <tr>\n",
              "      <th>48890</th>\n",
              "      <td>8232441</td>\n",
              "      <td>Brooklyn</td>\n",
              "      <td>Bedford-Stuyvesant</td>\n",
              "      <td>40.67853</td>\n",
              "      <td>-73.94995</td>\n",
              "      <td>Private room</td>\n",
              "      <td>70</td>\n",
              "      <td>2</td>\n",
              "      <td>0</td>\n",
              "      <td>0.00</td>\n",
              "      <td>2</td>\n",
              "      <td>9</td>\n",
              "    </tr>\n",
              "    <tr>\n",
              "      <th>48891</th>\n",
              "      <td>6570630</td>\n",
              "      <td>Brooklyn</td>\n",
              "      <td>Bushwick</td>\n",
              "      <td>40.70184</td>\n",
              "      <td>-73.93317</td>\n",
              "      <td>Private room</td>\n",
              "      <td>40</td>\n",
              "      <td>4</td>\n",
              "      <td>0</td>\n",
              "      <td>0.00</td>\n",
              "      <td>2</td>\n",
              "      <td>36</td>\n",
              "    </tr>\n",
              "    <tr>\n",
              "      <th>48892</th>\n",
              "      <td>23492952</td>\n",
              "      <td>Manhattan</td>\n",
              "      <td>Harlem</td>\n",
              "      <td>40.81475</td>\n",
              "      <td>-73.94867</td>\n",
              "      <td>Entire home/apt</td>\n",
              "      <td>115</td>\n",
              "      <td>10</td>\n",
              "      <td>0</td>\n",
              "      <td>0.00</td>\n",
              "      <td>1</td>\n",
              "      <td>27</td>\n",
              "    </tr>\n",
              "    <tr>\n",
              "      <th>48893</th>\n",
              "      <td>30985759</td>\n",
              "      <td>Manhattan</td>\n",
              "      <td>Hell's Kitchen</td>\n",
              "      <td>40.75751</td>\n",
              "      <td>-73.99112</td>\n",
              "      <td>Shared room</td>\n",
              "      <td>55</td>\n",
              "      <td>1</td>\n",
              "      <td>0</td>\n",
              "      <td>0.00</td>\n",
              "      <td>6</td>\n",
              "      <td>2</td>\n",
              "    </tr>\n",
              "    <tr>\n",
              "      <th>48894</th>\n",
              "      <td>68119814</td>\n",
              "      <td>Manhattan</td>\n",
              "      <td>Hell's Kitchen</td>\n",
              "      <td>40.76404</td>\n",
              "      <td>-73.98933</td>\n",
              "      <td>Private room</td>\n",
              "      <td>90</td>\n",
              "      <td>7</td>\n",
              "      <td>0</td>\n",
              "      <td>0.00</td>\n",
              "      <td>1</td>\n",
              "      <td>23</td>\n",
              "    </tr>\n",
              "  </tbody>\n",
              "</table>\n",
              "<p>23446 rows × 12 columns</p>\n",
              "</div>"
            ],
            "text/plain": [
              "        host_id  ... availability_365\n",
              "1          2845  ...              355\n",
              "2          4632  ...              365\n",
              "6          7356  ...                0\n",
              "7          8967  ...              220\n",
              "8          7490  ...                0\n",
              "...         ...  ...              ...\n",
              "48890   8232441  ...                9\n",
              "48891   6570630  ...               36\n",
              "48892  23492952  ...               27\n",
              "48893  30985759  ...                2\n",
              "48894  68119814  ...               23\n",
              "\n",
              "[23446 rows x 12 columns]"
            ]
          },
          "metadata": {
            "tags": []
          },
          "execution_count": 91
        }
      ]
    },
    {
      "cell_type": "code",
      "metadata": {
        "id": "IAsWhXWOWB2h",
        "colab_type": "code",
        "colab": {
          "base_uri": "https://localhost:8080/",
          "height": 452
        },
        "outputId": "b9fa8f0f-67db-4d6a-c219-ab75f30d6d1d"
      },
      "source": [
        "#grabbing top 10 neighbourhoods for sub-dataframe\n",
        "sub_7=df.loc[df['neighbourhood'].isin(['Williamsburg','Bedford-Stuyvesant','Harlem','Bushwick','Upper West Side','Hell\\'s Kitchen','East Village','Upper East Side','Crown Heights','Midtown'])]\n",
        "\n",
        "viz_3=sns.catplot(x='neighbourhood', hue='neighbourhood_group', col='room_type', data=sub_7, kind='count')\n",
        "viz_3.set_xticklabels(rotation=45)"
      ],
      "execution_count": 94,
      "outputs": [
        {
          "output_type": "execute_result",
          "data": {
            "text/plain": [
              "<seaborn.axisgrid.FacetGrid at 0x7f14bdd28550>"
            ]
          },
          "metadata": {
            "tags": []
          },
          "execution_count": 94
        },
        {
          "output_type": "display_data",
          "data": {
            "image/png": "[encoded data removed]",
            "text/plain": [
              "<Figure size 1197.38x360 with 3 Axes>"
            ]
          },
          "metadata": {
            "tags": []
          }
        }
      ]
    },
    {
      "cell_type": "code",
      "metadata": {
        "id": "mrRcKVNZWmom",
        "colab_type": "code",
        "colab": {
          "base_uri": "https://localhost:8080/",
          "height": 488
        },
        "outputId": "13d85f74-602b-4dc7-84b7-f72aa9b5c611"
      },
      "source": [
        "#let's see how scatterplot will come out \n",
        "viz_4=sub_6.plot(kind='scatter', x='longitude', y='latitude', label='availability_365', c='price',\n",
        "                  cmap=plt.get_cmap('jet'), colorbar=True, alpha=0.4, figsize=(10,8))\n",
        "viz_4.legend()"
      ],
      "execution_count": 95,
      "outputs": [
        {
          "output_type": "execute_result",
          "data": {
            "text/plain": [
              "<matplotlib.legend.Legend at 0x7f14bd4b3be0>"
            ]
          },
          "metadata": {
            "tags": []
          },
          "execution_count": 95
        },
        {
          "output_type": "display_data",
          "data": {
            "image/png": "[encoded data removed]",
            "text/plain": [
              "<Figure size 720x576 with 2 Axes>"
            ]
          },
          "metadata": {
            "tags": []
          }
        }
      ]
    },
    {
      "cell_type": "markdown",
      "metadata": {
        "id": "9yDmjGz2Ybu_",
        "colab_type": "text"
      },
      "source": [
        "# **Analyzig the name feature**"
      ]
    },
    {
      "cell_type": "code",
      "metadata": {
        "id": "C4dSnL_XXkVu",
        "colab_type": "code",
        "colab": {
          "base_uri": "https://localhost:8080/",
          "height": 390
        },
        "outputId": "8af91e47-fcce-4739-9c95-2b5962e93725"
      },
      "source": [
        "new_df = pd.read_csv('Datasets/AB_NYC_2019.csv')\n",
        "new_df.head()"
      ],
      "execution_count": 99,
      "outputs": [
        {
          "output_type": "execute_result",
          "data": {
            "text/html": [
              "<div>\n",
              "<style scoped>\n",
              "    .dataframe tbody tr th:only-of-type {\n",
              "        vertical-align: middle;\n",
              "    }\n",
              "\n",
              "    .dataframe tbody tr th {\n",
              "        vertical-align: top;\n",
              "    }\n",
              "\n",
              "    .dataframe thead th {\n",
              "        text-align: right;\n",
              "    }\n",
              "</style>\n",
              "<table border=\"1\" class=\"dataframe\">\n",
              "  <thead>\n",
              "    <tr style=\"text-align: right;\">\n",
              "      <th></th>\n",
              "      <th>id</th>\n",
              "      <th>name</th>\n",
              "      <th>host_id</th>\n",
              "      <th>host_name</th>\n",
              "      <th>neighbourhood_group</th>\n",
              "      <th>neighbourhood</th>\n",
              "      <th>latitude</th>\n",
              "      <th>longitude</th>\n",
              "      <th>room_type</th>\n",
              "      <th>price</th>\n",
              "      <th>minimum_nights</th>\n",
              "      <th>number_of_reviews</th>\n",
              "      <th>last_review</th>\n",
              "      <th>reviews_per_month</th>\n",
              "      <th>calculated_host_listings_count</th>\n",
              "      <th>availability_365</th>\n",
              "    </tr>\n",
              "  </thead>\n",
              "  <tbody>\n",
              "    <tr>\n",
              "      <th>0</th>\n",
              "      <td>2539</td>\n",
              "      <td>Clean &amp; quiet apt home by the park</td>\n",
              "      <td>2787</td>\n",
              "      <td>John</td>\n",
              "      <td>Brooklyn</td>\n",
              "      <td>Kensington</td>\n",
              "      <td>40.64749</td>\n",
              "      <td>-73.97237</td>\n",
              "      <td>Private room</td>\n",
              "      <td>149</td>\n",
              "      <td>1</td>\n",
              "      <td>9</td>\n",
              "      <td>2018-10-19</td>\n",
              "      <td>0.21</td>\n",
              "      <td>6</td>\n",
              "      <td>365</td>\n",
              "    </tr>\n",
              "    <tr>\n",
              "      <th>1</th>\n",
              "      <td>2595</td>\n",
              "      <td>Skylit Midtown Castle</td>\n",
              "      <td>2845</td>\n",
              "      <td>Jennifer</td>\n",
              "      <td>Manhattan</td>\n",
              "      <td>Midtown</td>\n",
              "      <td>40.75362</td>\n",
              "      <td>-73.98377</td>\n",
              "      <td>Entire home/apt</td>\n",
              "      <td>225</td>\n",
              "      <td>1</td>\n",
              "      <td>45</td>\n",
              "      <td>2019-05-21</td>\n",
              "      <td>0.38</td>\n",
              "      <td>2</td>\n",
              "      <td>355</td>\n",
              "    </tr>\n",
              "    <tr>\n",
              "      <th>2</th>\n",
              "      <td>3647</td>\n",
              "      <td>THE VILLAGE OF HARLEM....NEW YORK !</td>\n",
              "      <td>4632</td>\n",
              "      <td>Elisabeth</td>\n",
              "      <td>Manhattan</td>\n",
              "      <td>Harlem</td>\n",
              "      <td>40.80902</td>\n",
              "      <td>-73.94190</td>\n",
              "      <td>Private room</td>\n",
              "      <td>150</td>\n",
              "      <td>3</td>\n",
              "      <td>0</td>\n",
              "      <td>NaN</td>\n",
              "      <td>NaN</td>\n",
              "      <td>1</td>\n",
              "      <td>365</td>\n",
              "    </tr>\n",
              "    <tr>\n",
              "      <th>3</th>\n",
              "      <td>3831</td>\n",
              "      <td>Cozy Entire Floor of Brownstone</td>\n",
              "      <td>4869</td>\n",
              "      <td>LisaRoxanne</td>\n",
              "      <td>Brooklyn</td>\n",
              "      <td>Clinton Hill</td>\n",
              "      <td>40.68514</td>\n",
              "      <td>-73.95976</td>\n",
              "      <td>Entire home/apt</td>\n",
              "      <td>89</td>\n",
              "      <td>1</td>\n",
              "      <td>270</td>\n",
              "      <td>2019-07-05</td>\n",
              "      <td>4.64</td>\n",
              "      <td>1</td>\n",
              "      <td>194</td>\n",
              "    </tr>\n",
              "    <tr>\n",
              "      <th>4</th>\n",
              "      <td>5022</td>\n",
              "      <td>Entire Apt: Spacious Studio/Loft by central park</td>\n",
              "      <td>7192</td>\n",
              "      <td>Laura</td>\n",
              "      <td>Manhattan</td>\n",
              "      <td>East Harlem</td>\n",
              "      <td>40.79851</td>\n",
              "      <td>-73.94399</td>\n",
              "      <td>Entire home/apt</td>\n",
              "      <td>80</td>\n",
              "      <td>10</td>\n",
              "      <td>9</td>\n",
              "      <td>2018-11-19</td>\n",
              "      <td>0.10</td>\n",
              "      <td>1</td>\n",
              "      <td>0</td>\n",
              "    </tr>\n",
              "  </tbody>\n",
              "</table>\n",
              "</div>"
            ],
            "text/plain": [
              "     id  ... availability_365\n",
              "0  2539  ...              365\n",
              "1  2595  ...              355\n",
              "2  3647  ...              365\n",
              "3  3831  ...              194\n",
              "4  5022  ...                0\n",
              "\n",
              "[5 rows x 16 columns]"
            ]
          },
          "metadata": {
            "tags": []
          },
          "execution_count": 99
        }
      ]
    },
    {
      "cell_type": "code",
      "metadata": {
        "id": "-7sE0j1jYbKQ",
        "colab_type": "code",
        "colab": {}
      },
      "source": [
        "_name_ =[]\n",
        "\n",
        "for names in new_df.name:\n",
        "  _na_name_me=_name_.append(names)\n",
        "\n",
        "# print(_name_)"
      ],
      "execution_count": 0,
      "outputs": []
    },
    {
      "cell_type": "code",
      "metadata": {
        "id": "tZ0Xz9lhZMv5",
        "colab_type": "code",
        "colab": {}
      },
      "source": [
        "def split_name(name):\n",
        "    spl=str(name).split()\n",
        "    return spl\n",
        "#initializing empty list where we are going to have words counted\n",
        "_names_for_count_=[]\n",
        "#getting name string from our list and using split function, later appending to list above\n",
        "for x in _name_:\n",
        "    for word in split_name(x):\n",
        "        word=word.lower()\n",
        "        _names_for_count_.append(word)\n",
        "\n",
        "# print(_names_for_count_)"
      ],
      "execution_count": 0,
      "outputs": []
    },
    {
      "cell_type": "code",
      "metadata": {
        "id": "q7w-YEWYm3Gj",
        "colab_type": "code",
        "colab": {}
      },
      "source": [
        "#we are going to use counter\n",
        "from collections import Counter\n",
        "#let's see top 25 used words by host to name their listing\n",
        "_top_25_w=Counter(_names_for_count_).most_common()\n",
        "_top_25_w=_top_25_w[0:25]\n",
        "\n",
        "#now let's put our findings in dataframe for further visualizations\n",
        "sub_w=pd.DataFrame(_top_25_w)\n",
        "sub_w.rename(columns={0:'Words', 1:'Count'}, inplace=True)\n",
        "\n",
        "#we are going to use barplot for this visualization\n",
        "viz_5=sns.barplot(x='Words', y='Count', data=sub_w)\n",
        "viz_5.set_title('Counts of the top 25 used words for listing names')\n",
        "viz_5.set_ylabel('Count of words')\n",
        "viz_5.set_xlabel('Words')\n",
        "viz_5.set_xticklabels(viz_5.get_xticklabels(), rotation=80)"
      ],
      "execution_count": 0,
      "outputs": []
    },
    {
      "cell_type": "markdown",
      "metadata": {
        "id": "T2jTwsQun7Bs",
        "colab_type": "text"
      },
      "source": [
        "# **Analyzing the number of reviews feature**"
      ]
    },
    {
      "cell_type": "code",
      "metadata": {
        "id": "7mAWL6GLn_6I",
        "colab_type": "code",
        "colab": {
          "base_uri": "https://localhost:8080/",
          "height": 335
        },
        "outputId": "f5b99378-3e79-47e4-b418-a3b588e85150"
      },
      "source": [
        "#let's grab 10 most reviewed listings in NYC\n",
        "top_reviewed_listings=df.nlargest(10,'number_of_reviews')\n",
        "top_reviewed_listings"
      ],
      "execution_count": 110,
      "outputs": [
        {
          "output_type": "execute_result",
          "data": {
            "text/html": [
              "<div>\n",
              "<style scoped>\n",
              "    .dataframe tbody tr th:only-of-type {\n",
              "        vertical-align: middle;\n",
              "    }\n",
              "\n",
              "    .dataframe tbody tr th {\n",
              "        vertical-align: top;\n",
              "    }\n",
              "\n",
              "    .dataframe thead th {\n",
              "        text-align: right;\n",
              "    }\n",
              "</style>\n",
              "<table border=\"1\" class=\"dataframe\">\n",
              "  <thead>\n",
              "    <tr style=\"text-align: right;\">\n",
              "      <th></th>\n",
              "      <th>host_id</th>\n",
              "      <th>neighbourhood_group</th>\n",
              "      <th>neighbourhood</th>\n",
              "      <th>latitude</th>\n",
              "      <th>longitude</th>\n",
              "      <th>room_type</th>\n",
              "      <th>price</th>\n",
              "      <th>minimum_nights</th>\n",
              "      <th>number_of_reviews</th>\n",
              "      <th>reviews_per_month</th>\n",
              "      <th>calculated_host_listings_count</th>\n",
              "      <th>availability_365</th>\n",
              "    </tr>\n",
              "  </thead>\n",
              "  <tbody>\n",
              "    <tr>\n",
              "      <th>11759</th>\n",
              "      <td>47621202</td>\n",
              "      <td>Queens</td>\n",
              "      <td>Jamaica</td>\n",
              "      <td>40.66730</td>\n",
              "      <td>-73.76831</td>\n",
              "      <td>Private room</td>\n",
              "      <td>47</td>\n",
              "      <td>1</td>\n",
              "      <td>629</td>\n",
              "      <td>14.58</td>\n",
              "      <td>2</td>\n",
              "      <td>333</td>\n",
              "    </tr>\n",
              "    <tr>\n",
              "      <th>2031</th>\n",
              "      <td>4734398</td>\n",
              "      <td>Manhattan</td>\n",
              "      <td>Harlem</td>\n",
              "      <td>40.82085</td>\n",
              "      <td>-73.94025</td>\n",
              "      <td>Private room</td>\n",
              "      <td>49</td>\n",
              "      <td>1</td>\n",
              "      <td>607</td>\n",
              "      <td>7.75</td>\n",
              "      <td>3</td>\n",
              "      <td>293</td>\n",
              "    </tr>\n",
              "    <tr>\n",
              "      <th>2030</th>\n",
              "      <td>4734398</td>\n",
              "      <td>Manhattan</td>\n",
              "      <td>Harlem</td>\n",
              "      <td>40.82124</td>\n",
              "      <td>-73.93838</td>\n",
              "      <td>Private room</td>\n",
              "      <td>49</td>\n",
              "      <td>1</td>\n",
              "      <td>597</td>\n",
              "      <td>7.72</td>\n",
              "      <td>3</td>\n",
              "      <td>342</td>\n",
              "    </tr>\n",
              "    <tr>\n",
              "      <th>2015</th>\n",
              "      <td>4734398</td>\n",
              "      <td>Manhattan</td>\n",
              "      <td>Harlem</td>\n",
              "      <td>40.82264</td>\n",
              "      <td>-73.94041</td>\n",
              "      <td>Private room</td>\n",
              "      <td>49</td>\n",
              "      <td>1</td>\n",
              "      <td>594</td>\n",
              "      <td>7.57</td>\n",
              "      <td>3</td>\n",
              "      <td>339</td>\n",
              "    </tr>\n",
              "    <tr>\n",
              "      <th>13495</th>\n",
              "      <td>47621202</td>\n",
              "      <td>Queens</td>\n",
              "      <td>Jamaica</td>\n",
              "      <td>40.66939</td>\n",
              "      <td>-73.76975</td>\n",
              "      <td>Private room</td>\n",
              "      <td>47</td>\n",
              "      <td>1</td>\n",
              "      <td>576</td>\n",
              "      <td>13.40</td>\n",
              "      <td>2</td>\n",
              "      <td>173</td>\n",
              "    </tr>\n",
              "    <tr>\n",
              "      <th>10623</th>\n",
              "      <td>37312959</td>\n",
              "      <td>Queens</td>\n",
              "      <td>East Elmhurst</td>\n",
              "      <td>40.77006</td>\n",
              "      <td>-73.87683</td>\n",
              "      <td>Private room</td>\n",
              "      <td>46</td>\n",
              "      <td>1</td>\n",
              "      <td>543</td>\n",
              "      <td>11.59</td>\n",
              "      <td>5</td>\n",
              "      <td>163</td>\n",
              "    </tr>\n",
              "    <tr>\n",
              "      <th>1879</th>\n",
              "      <td>2369681</td>\n",
              "      <td>Manhattan</td>\n",
              "      <td>Lower East Side</td>\n",
              "      <td>40.71921</td>\n",
              "      <td>-73.99116</td>\n",
              "      <td>Private room</td>\n",
              "      <td>99</td>\n",
              "      <td>2</td>\n",
              "      <td>540</td>\n",
              "      <td>6.95</td>\n",
              "      <td>1</td>\n",
              "      <td>179</td>\n",
              "    </tr>\n",
              "    <tr>\n",
              "      <th>20403</th>\n",
              "      <td>26432133</td>\n",
              "      <td>Queens</td>\n",
              "      <td>East Elmhurst</td>\n",
              "      <td>40.76335</td>\n",
              "      <td>-73.87007</td>\n",
              "      <td>Private room</td>\n",
              "      <td>48</td>\n",
              "      <td>1</td>\n",
              "      <td>510</td>\n",
              "      <td>16.22</td>\n",
              "      <td>5</td>\n",
              "      <td>341</td>\n",
              "    </tr>\n",
              "    <tr>\n",
              "      <th>4870</th>\n",
              "      <td>12949460</td>\n",
              "      <td>Brooklyn</td>\n",
              "      <td>Park Slope</td>\n",
              "      <td>40.67926</td>\n",
              "      <td>-73.97711</td>\n",
              "      <td>Entire home/apt</td>\n",
              "      <td>160</td>\n",
              "      <td>1</td>\n",
              "      <td>488</td>\n",
              "      <td>8.14</td>\n",
              "      <td>1</td>\n",
              "      <td>269</td>\n",
              "    </tr>\n",
              "    <tr>\n",
              "      <th>471</th>\n",
              "      <td>792159</td>\n",
              "      <td>Brooklyn</td>\n",
              "      <td>Bushwick</td>\n",
              "      <td>40.70283</td>\n",
              "      <td>-73.92131</td>\n",
              "      <td>Private room</td>\n",
              "      <td>60</td>\n",
              "      <td>3</td>\n",
              "      <td>480</td>\n",
              "      <td>6.70</td>\n",
              "      <td>1</td>\n",
              "      <td>0</td>\n",
              "    </tr>\n",
              "  </tbody>\n",
              "</table>\n",
              "</div>"
            ],
            "text/plain": [
              "        host_id  ... availability_365\n",
              "11759  47621202  ...              333\n",
              "2031    4734398  ...              293\n",
              "2030    4734398  ...              342\n",
              "2015    4734398  ...              339\n",
              "13495  47621202  ...              173\n",
              "10623  37312959  ...              163\n",
              "1879    2369681  ...              179\n",
              "20403  26432133  ...              341\n",
              "4870   12949460  ...              269\n",
              "471      792159  ...                0\n",
              "\n",
              "[10 rows x 12 columns]"
            ]
          },
          "metadata": {
            "tags": []
          },
          "execution_count": 110
        }
      ]
    },
    {
      "cell_type": "code",
      "metadata": {
        "id": "t-NsgoKAoMpF",
        "colab_type": "code",
        "colab": {
          "base_uri": "https://localhost:8080/",
          "height": 33
        },
        "outputId": "17ef9d36-ab3d-4009-8aa4-15c9d790160f"
      },
      "source": [
        "price_avrg=top_reviewed_listings.price.mean()\n",
        "print('Average price per night: {}'.format(price_avrg))"
      ],
      "execution_count": 111,
      "outputs": [
        {
          "output_type": "stream",
          "text": [
            "Average price per night: 65.4\n"
          ],
          "name": "stdout"
        }
      ]
    },
    {
      "cell_type": "code",
      "metadata": {
        "id": "FXf1scG5oVnx",
        "colab_type": "code",
        "colab": {}
      },
      "source": [
        ""
      ],
      "execution_count": 0,
      "outputs": []
    }
  ]
}